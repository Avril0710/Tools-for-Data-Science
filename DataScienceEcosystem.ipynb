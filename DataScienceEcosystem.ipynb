{
 "cells": [
  {
   "cell_type": "markdown",
   "id": "a14c54ce",
   "metadata": {},
   "source": [
    "# Data Science Tools and Ecosystem"
   ]
  },
  {
   "cell_type": "markdown",
   "id": "54a19253",
   "metadata": {},
   "source": [
    "In this notebook, Data Science Tools and Ecosystems are summarized."
   ]
  },
  {
   "cell_type": "markdown",
   "id": "ac70a2ee",
   "metadata": {},
   "source": [
    "**Objectives:\n",
    "- C++\n",
    "- PHP\n",
    "- Go\n",
    "- Ruby\n",
    "- Visual Basics"
   ]
  },
  {
   "cell_type": "markdown",
   "id": "bf1321cc",
   "metadata": {},
   "source": [
    "Some of the popular languages that Data Scientists use are:"
   ]
  },
  {
   "cell_type": "markdown",
   "id": "ad448366",
   "metadata": {},
   "source": [
    "1. Python\n",
    "2. SQL\n",
    "3. Julia\n",
    "4. Scala\n",
    "5. R\n",
    "6. Java\n",
    "7. JavaScript"
   ]
  },
  {
   "cell_type": "markdown",
   "id": "7057bcff",
   "metadata": {},
   "source": [
    "Some of the commonly used libraries used by Data Scientists include:"
   ]
  },
  {
   "cell_type": "markdown",
   "id": "01c9ca5a",
   "metadata": {},
   "source": [
    "1. Numpy\n",
    "2. Pandas\n",
    "3. Matplotlib\n",
    "4. Scipy"
   ]
  },
  {
   "cell_type": "markdown",
   "id": "a806d712",
   "metadata": {},
   "source": [
    "| Data Science Tools |\n",
    "|--------------------|\n",
    "| - MySQL |\n",
    "| - PostgreSQL |\n",
    "| - IBM Db2 |\n",
    "| - MongoDB |\n",
    "| - Apache Cassandre |\n",
    "| - Apache Hadoop |\n",
    "| - Apache Spark |\n"
   ]
  },
  {
   "cell_type": "markdown",
   "id": "db47171b",
   "metadata": {},
   "source": [
    "### Below are a few examples of evaluating arithmetic expressions in Python"
   ]
  },
  {
   "cell_type": "code",
   "execution_count": 1,
   "id": "eda3166f",
   "metadata": {},
   "outputs": [
    {
     "data": {
      "text/plain": [
       "17"
      ]
     },
     "execution_count": 1,
     "metadata": {},
     "output_type": "execute_result"
    }
   ],
   "source": [
    "## This is a simple arithmetic expression to muliply then add integers\n",
    "(3*4)+5"
   ]
  },
  {
   "cell_type": "code",
   "execution_count": 2,
   "id": "6ab486e3",
   "metadata": {},
   "outputs": [
    {
     "data": {
      "text/plain": [
       "3.3333333333333335"
      ]
     },
     "execution_count": 2,
     "metadata": {},
     "output_type": "execute_result"
    }
   ],
   "source": [
    "## This will convert 200 minutes to hours by dividing by 60\n",
    "200/60"
   ]
  },
  {
   "cell_type": "markdown",
   "id": "0a178726",
   "metadata": {},
   "source": [
    "## Author\n",
    "Edward Jimenez"
   ]
  },
  {
   "cell_type": "code",
   "execution_count": null,
   "id": "6a469466",
   "metadata": {},
   "outputs": [],
   "source": []
  }
 ],
 "metadata": {
  "kernelspec": {
   "display_name": "Python 3 (ipykernel)",
   "language": "python",
   "name": "python3"
  },
  "language_info": {
   "codemirror_mode": {
    "name": "ipython",
    "version": 3
   },
   "file_extension": ".py",
   "mimetype": "text/x-python",
   "name": "python",
   "nbconvert_exporter": "python",
   "pygments_lexer": "ipython3",
   "version": "3.10.9"
  }
 },
 "nbformat": 4,
 "nbformat_minor": 5
}
